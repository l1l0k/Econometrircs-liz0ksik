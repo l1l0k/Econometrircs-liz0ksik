{
 "cells": [
  {
   "cell_type": "markdown",
   "id": "71161b34",
   "metadata": {},
   "source": [
    "# Задачи по Эконометрике: интерпретация коэффициентов \n"
   ]
  },
  {
   "cell_type": "markdown",
   "id": "6187947d",
   "metadata": {},
   "source": [
    "# Cost Equation"
   ]
  },
  {
   "cell_type": "markdown",
   "id": "567d4e4b",
   "metadata": {},
   "source": [
    "## задача 1"
   ]
  },
  {
   "cell_type": "markdown",
   "id": "438cae54",
   "metadata": {},
   "source": [
    "#### рассмотрим регрессию log(cost) на log(q) на датсете electricity"
   ]
  },
  {
   "cell_type": "markdown",
   "id": "a916684d",
   "metadata": {},
   "source": [
    "#### Спецификация:\n",
    "$$\n",
    "log(cost)= \\beta_0 + \\beta_1*log(q) + u\n",
    "$$"
   ]
  },
  {
   "cell_type": "code",
   "execution_count": 5,
   "id": "68a7c6fa",
   "metadata": {},
   "outputs": [],
   "source": [
    "import numpy as np # linear algebra \n",
    "import pandas as pd # data processing, CSV file I/O (e.g. pd.read_csv)\n",
    "# stats models: regression fitting via formulas\n",
    "import statsmodels.formula.api as smf\n",
    "# stats models: regression fitting via matrices of regression design\n",
    "import statsmodels.api as sm"
   ]
  },
  {
   "cell_type": "code",
   "execution_count": 11,
   "id": "c1ad8b92",
   "metadata": {},
   "outputs": [
    {
     "data": {
      "text/html": [
       "<div>\n",
       "<style scoped>\n",
       "    .dataframe tbody tr th:only-of-type {\n",
       "        vertical-align: middle;\n",
       "    }\n",
       "\n",
       "    .dataframe tbody tr th {\n",
       "        vertical-align: top;\n",
       "    }\n",
       "\n",
       "    .dataframe thead th {\n",
       "        text-align: right;\n",
       "    }\n",
       "</style>\n",
       "<table border=\"1\" class=\"dataframe\">\n",
       "  <thead>\n",
       "    <tr style=\"text-align: right;\">\n",
       "      <th></th>\n",
       "      <th>cost</th>\n",
       "      <th>q</th>\n",
       "      <th>pl</th>\n",
       "      <th>sl</th>\n",
       "      <th>pk</th>\n",
       "      <th>sk</th>\n",
       "      <th>pf</th>\n",
       "      <th>sf</th>\n",
       "    </tr>\n",
       "  </thead>\n",
       "  <tbody>\n",
       "    <tr>\n",
       "      <th>0</th>\n",
       "      <td>0.2130</td>\n",
       "      <td>8.0</td>\n",
       "      <td>6869.47</td>\n",
       "      <td>0.3291</td>\n",
       "      <td>64.945</td>\n",
       "      <td>0.4197</td>\n",
       "      <td>18.000</td>\n",
       "      <td>0.2512</td>\n",
       "    </tr>\n",
       "    <tr>\n",
       "      <th>1</th>\n",
       "      <td>3.0427</td>\n",
       "      <td>869.0</td>\n",
       "      <td>8372.96</td>\n",
       "      <td>0.1030</td>\n",
       "      <td>68.227</td>\n",
       "      <td>0.2913</td>\n",
       "      <td>21.067</td>\n",
       "      <td>0.6057</td>\n",
       "    </tr>\n",
       "    <tr>\n",
       "      <th>2</th>\n",
       "      <td>9.4059</td>\n",
       "      <td>1412.0</td>\n",
       "      <td>7960.90</td>\n",
       "      <td>0.0891</td>\n",
       "      <td>40.692</td>\n",
       "      <td>0.1567</td>\n",
       "      <td>41.530</td>\n",
       "      <td>0.7542</td>\n",
       "    </tr>\n",
       "    <tr>\n",
       "      <th>3</th>\n",
       "      <td>0.7606</td>\n",
       "      <td>65.0</td>\n",
       "      <td>8971.89</td>\n",
       "      <td>0.2802</td>\n",
       "      <td>41.243</td>\n",
       "      <td>0.1282</td>\n",
       "      <td>28.539</td>\n",
       "      <td>0.5916</td>\n",
       "    </tr>\n",
       "    <tr>\n",
       "      <th>4</th>\n",
       "      <td>2.2587</td>\n",
       "      <td>295.0</td>\n",
       "      <td>8218.40</td>\n",
       "      <td>0.1772</td>\n",
       "      <td>71.940</td>\n",
       "      <td>0.1623</td>\n",
       "      <td>39.200</td>\n",
       "      <td>0.6606</td>\n",
       "    </tr>\n",
       "    <tr>\n",
       "      <th>...</th>\n",
       "      <td>...</td>\n",
       "      <td>...</td>\n",
       "      <td>...</td>\n",
       "      <td>...</td>\n",
       "      <td>...</td>\n",
       "      <td>...</td>\n",
       "      <td>...</td>\n",
       "      <td>...</td>\n",
       "    </tr>\n",
       "    <tr>\n",
       "      <th>153</th>\n",
       "      <td>6.8293</td>\n",
       "      <td>946.6</td>\n",
       "      <td>10642.16</td>\n",
       "      <td>0.0883</td>\n",
       "      <td>43.600</td>\n",
       "      <td>0.1914</td>\n",
       "      <td>51.463</td>\n",
       "      <td>0.7203</td>\n",
       "    </tr>\n",
       "    <tr>\n",
       "      <th>154</th>\n",
       "      <td>3.7605</td>\n",
       "      <td>377.0</td>\n",
       "      <td>7432.24</td>\n",
       "      <td>0.2117</td>\n",
       "      <td>74.120</td>\n",
       "      <td>0.2274</td>\n",
       "      <td>33.436</td>\n",
       "      <td>0.5609</td>\n",
       "    </tr>\n",
       "    <tr>\n",
       "      <th>155</th>\n",
       "      <td>3.9822</td>\n",
       "      <td>391.0</td>\n",
       "      <td>5826.04</td>\n",
       "      <td>0.1926</td>\n",
       "      <td>78.288</td>\n",
       "      <td>0.0924</td>\n",
       "      <td>44.633</td>\n",
       "      <td>0.7151</td>\n",
       "    </tr>\n",
       "    <tr>\n",
       "      <th>156</th>\n",
       "      <td>30.1880</td>\n",
       "      <td>5317.0</td>\n",
       "      <td>9586.63</td>\n",
       "      <td>0.0845</td>\n",
       "      <td>78.008</td>\n",
       "      <td>0.2009</td>\n",
       "      <td>41.840</td>\n",
       "      <td>0.7147</td>\n",
       "    </tr>\n",
       "    <tr>\n",
       "      <th>157</th>\n",
       "      <td>67.8562</td>\n",
       "      <td>15220.0</td>\n",
       "      <td>6986.09</td>\n",
       "      <td>0.1451</td>\n",
       "      <td>74.025</td>\n",
       "      <td>0.2596</td>\n",
       "      <td>25.662</td>\n",
       "      <td>0.5945</td>\n",
       "    </tr>\n",
       "  </tbody>\n",
       "</table>\n",
       "<p>158 rows × 8 columns</p>\n",
       "</div>"
      ],
      "text/plain": [
       "        cost        q        pl      sl      pk      sk      pf      sf\n",
       "0     0.2130      8.0   6869.47  0.3291  64.945  0.4197  18.000  0.2512\n",
       "1     3.0427    869.0   8372.96  0.1030  68.227  0.2913  21.067  0.6057\n",
       "2     9.4059   1412.0   7960.90  0.0891  40.692  0.1567  41.530  0.7542\n",
       "3     0.7606     65.0   8971.89  0.2802  41.243  0.1282  28.539  0.5916\n",
       "4     2.2587    295.0   8218.40  0.1772  71.940  0.1623  39.200  0.6606\n",
       "..       ...      ...       ...     ...     ...     ...     ...     ...\n",
       "153   6.8293    946.6  10642.16  0.0883  43.600  0.1914  51.463  0.7203\n",
       "154   3.7605    377.0   7432.24  0.2117  74.120  0.2274  33.436  0.5609\n",
       "155   3.9822    391.0   5826.04  0.1926  78.288  0.0924  44.633  0.7151\n",
       "156  30.1880   5317.0   9586.63  0.0845  78.008  0.2009  41.840  0.7147\n",
       "157  67.8562  15220.0   6986.09  0.1451  74.025  0.2596  25.662  0.5945\n",
       "\n",
       "[158 rows x 8 columns]"
      ]
     },
     "execution_count": 11,
     "metadata": {},
     "output_type": "execute_result"
    }
   ],
   "source": [
    "\n",
    "df = pd.read_csv('https://raw.githubusercontent.com/artamonoff/Econometrica/master/python-notebooks/data-csv/Electricity.csv')\n",
    "df\n"
   ]
  },
  {
   "cell_type": "code",
   "execution_count": 12,
   "id": "0f72869e",
   "metadata": {},
   "outputs": [],
   "source": [
    "### оценивание через матрицы регрессивного дизайна Y, X"
   ]
  },
  {
   "cell_type": "code",
   "execution_count": 13,
   "id": "990fb9ac",
   "metadata": {},
   "outputs": [
    {
     "data": {
      "text/html": [
       "<div>\n",
       "<style scoped>\n",
       "    .dataframe tbody tr th:only-of-type {\n",
       "        vertical-align: middle;\n",
       "    }\n",
       "\n",
       "    .dataframe tbody tr th {\n",
       "        vertical-align: top;\n",
       "    }\n",
       "\n",
       "    .dataframe thead th {\n",
       "        text-align: right;\n",
       "    }\n",
       "</style>\n",
       "<table border=\"1\" class=\"dataframe\">\n",
       "  <thead>\n",
       "    <tr style=\"text-align: right;\">\n",
       "      <th></th>\n",
       "      <th>const</th>\n",
       "      <th>l_q</th>\n",
       "    </tr>\n",
       "  </thead>\n",
       "  <tbody>\n",
       "    <tr>\n",
       "      <th>0</th>\n",
       "      <td>1.0</td>\n",
       "      <td>2.079442</td>\n",
       "    </tr>\n",
       "    <tr>\n",
       "      <th>1</th>\n",
       "      <td>1.0</td>\n",
       "      <td>6.767343</td>\n",
       "    </tr>\n",
       "    <tr>\n",
       "      <th>2</th>\n",
       "      <td>1.0</td>\n",
       "      <td>7.252762</td>\n",
       "    </tr>\n",
       "    <tr>\n",
       "      <th>3</th>\n",
       "      <td>1.0</td>\n",
       "      <td>4.174387</td>\n",
       "    </tr>\n",
       "    <tr>\n",
       "      <th>4</th>\n",
       "      <td>1.0</td>\n",
       "      <td>5.686975</td>\n",
       "    </tr>\n",
       "    <tr>\n",
       "      <th>5</th>\n",
       "      <td>1.0</td>\n",
       "      <td>5.209486</td>\n",
       "    </tr>\n",
       "    <tr>\n",
       "      <th>6</th>\n",
       "      <td>1.0</td>\n",
       "      <td>3.912023</td>\n",
       "    </tr>\n",
       "  </tbody>\n",
       "</table>\n",
       "</div>"
      ],
      "text/plain": [
       "   const       l_q\n",
       "0    1.0  2.079442\n",
       "1    1.0  6.767343\n",
       "2    1.0  7.252762\n",
       "3    1.0  4.174387\n",
       "4    1.0  5.686975\n",
       "5    1.0  5.209486\n",
       "6    1.0  3.912023"
      ]
     },
     "execution_count": 13,
     "metadata": {},
     "output_type": "execute_result"
    }
   ],
   "source": [
    "# Зададим матрицы регрессионного дизайна\n",
    "y = np.log(df['cost']) # зависимая переменная\n",
    "# логаримируем данные\n",
    "X = pd.DataFrame(data={'l_q': np.log(df['q'])} )\n",
    "X = sm.add_constant(X)\n",
    "#X = sm.add_constant(df[['totwrk', 'male']]) # регрессоры с добавленным столбом единиц\n",
    "X.head(n=7)"
   ]
  },
  {
   "cell_type": "code",
   "execution_count": 14,
   "id": "b792f0f0",
   "metadata": {},
   "outputs": [
    {
     "data": {
      "text/plain": [
       "const   -3.841\n",
       "l_q      0.836\n",
       "dtype: float64"
      ]
     },
     "execution_count": 14,
     "metadata": {},
     "output_type": "execute_result"
    }
   ],
   "source": [
    "cost_eq2 = sm.OLS(y, X).fit()\n",
    "# Коэфициенты модели с округлением\n",
    "cost_eq2.params.round(3)"
   ]
  },
  {
   "cell_type": "markdown",
   "id": "9769a8fa",
   "metadata": {},
   "source": [
    "### При увеличении выпуска электроэнергии на 1%, издержки за год увеличиваются на 0.836%\n"
   ]
  },
  {
   "cell_type": "markdown",
   "id": "f89bb76c",
   "metadata": {},
   "source": [
    "## модель 2"
   ]
  },
  {
   "cell_type": "markdown",
   "id": "7d3f722c",
   "metadata": {},
   "source": [
    "## спецификация: \n",
    "$$\n",
    "log(cost)= \\beta_0 + \\beta_1 * log(q) + \\beta_2 * log(pl) + \\beta_3 * log(pf) + \\beta_4 * log(pk) + u\n",
    "$$"
   ]
  },
  {
   "cell_type": "code",
   "execution_count": 15,
   "id": "cc816f06",
   "metadata": {},
   "outputs": [
    {
     "data": {
      "text/html": [
       "<div>\n",
       "<style scoped>\n",
       "    .dataframe tbody tr th:only-of-type {\n",
       "        vertical-align: middle;\n",
       "    }\n",
       "\n",
       "    .dataframe tbody tr th {\n",
       "        vertical-align: top;\n",
       "    }\n",
       "\n",
       "    .dataframe thead th {\n",
       "        text-align: right;\n",
       "    }\n",
       "</style>\n",
       "<table border=\"1\" class=\"dataframe\">\n",
       "  <thead>\n",
       "    <tr style=\"text-align: right;\">\n",
       "      <th></th>\n",
       "      <th>const</th>\n",
       "      <th>l_q</th>\n",
       "      <th>l_pl</th>\n",
       "      <th>l_pf</th>\n",
       "      <th>l_pk</th>\n",
       "    </tr>\n",
       "  </thead>\n",
       "  <tbody>\n",
       "    <tr>\n",
       "      <th>0</th>\n",
       "      <td>1.0</td>\n",
       "      <td>2.079442</td>\n",
       "      <td>8.834842</td>\n",
       "      <td>2.890372</td>\n",
       "      <td>4.173541</td>\n",
       "    </tr>\n",
       "    <tr>\n",
       "      <th>1</th>\n",
       "      <td>1.0</td>\n",
       "      <td>6.767343</td>\n",
       "      <td>9.032763</td>\n",
       "      <td>3.047708</td>\n",
       "      <td>4.222840</td>\n",
       "    </tr>\n",
       "    <tr>\n",
       "      <th>2</th>\n",
       "      <td>1.0</td>\n",
       "      <td>7.252762</td>\n",
       "      <td>8.982297</td>\n",
       "      <td>3.726416</td>\n",
       "      <td>3.706032</td>\n",
       "    </tr>\n",
       "    <tr>\n",
       "      <th>3</th>\n",
       "      <td>1.0</td>\n",
       "      <td>4.174387</td>\n",
       "      <td>9.101852</td>\n",
       "      <td>3.351272</td>\n",
       "      <td>3.719481</td>\n",
       "    </tr>\n",
       "    <tr>\n",
       "      <th>4</th>\n",
       "      <td>1.0</td>\n",
       "      <td>5.686975</td>\n",
       "      <td>9.014131</td>\n",
       "      <td>3.668677</td>\n",
       "      <td>4.275832</td>\n",
       "    </tr>\n",
       "    <tr>\n",
       "      <th>5</th>\n",
       "      <td>1.0</td>\n",
       "      <td>5.209486</td>\n",
       "      <td>8.529811</td>\n",
       "      <td>3.569814</td>\n",
       "      <td>4.309859</td>\n",
       "    </tr>\n",
       "    <tr>\n",
       "      <th>6</th>\n",
       "      <td>1.0</td>\n",
       "      <td>3.912023</td>\n",
       "      <td>9.127420</td>\n",
       "      <td>3.467921</td>\n",
       "      <td>4.505018</td>\n",
       "    </tr>\n",
       "  </tbody>\n",
       "</table>\n",
       "</div>"
      ],
      "text/plain": [
       "   const       l_q      l_pl      l_pf      l_pk\n",
       "0    1.0  2.079442  8.834842  2.890372  4.173541\n",
       "1    1.0  6.767343  9.032763  3.047708  4.222840\n",
       "2    1.0  7.252762  8.982297  3.726416  3.706032\n",
       "3    1.0  4.174387  9.101852  3.351272  3.719481\n",
       "4    1.0  5.686975  9.014131  3.668677  4.275832\n",
       "5    1.0  5.209486  8.529811  3.569814  4.309859\n",
       "6    1.0  3.912023  9.127420  3.467921  4.505018"
      ]
     },
     "execution_count": 15,
     "metadata": {},
     "output_type": "execute_result"
    }
   ],
   "source": [
    "# Зададим матрицы регрессионного дизайна\n",
    "y = np.log(df['cost']) \n",
    "# логаримируем данные\n",
    "X = pd.DataFrame(data={'l_q': np.log(df['q']), 'l_pl': np.log(df['pl']), 'l_pf': np.log(df['pf']), 'l_pk': np.log(df['pk'])} )\n",
    "X = sm.add_constant(X)\n",
    "#X = sm.add_constant(df[['totwrk', 'male']]) \n",
    "X.head(n=7)"
   ]
  },
  {
   "cell_type": "code",
   "execution_count": 16,
   "id": "5ff7cd52",
   "metadata": {},
   "outputs": [
    {
     "data": {
      "text/plain": [
       "const   -7.472\n",
       "l_q      0.838\n",
       "l_pl     0.044\n",
       "l_pf     0.713\n",
       "l_pk     0.188\n",
       "dtype: float64"
      ]
     },
     "execution_count": 16,
     "metadata": {},
     "output_type": "execute_result"
    }
   ],
   "source": [
    "cost_eq2 = sm.OLS(y, X).fit()\n",
    "# Коэфициенты модели с округлением\n",
    "cost_eq2.params.round(3)"
   ]
  },
  {
   "cell_type": "markdown",
   "id": "158f2849",
   "metadata": {},
   "source": [
    "##### При увеличении выпуска электроэнергии на 1%, издержки за год увеличиваются на 0.838%"
   ]
  },
  {
   "cell_type": "code",
   "execution_count": null,
   "id": "19b95fa1",
   "metadata": {},
   "outputs": [],
   "source": []
  }
 ],
 "metadata": {
  "kernelspec": {
   "display_name": "Python 3 (ipykernel)",
   "language": "python",
   "name": "python3"
  },
  "language_info": {
   "codemirror_mode": {
    "name": "ipython",
    "version": 3
   },
   "file_extension": ".py",
   "mimetype": "text/x-python",
   "name": "python",
   "nbconvert_exporter": "python",
   "pygments_lexer": "ipython3",
   "version": "3.9.13"
  }
 },
 "nbformat": 4,
 "nbformat_minor": 5
}
