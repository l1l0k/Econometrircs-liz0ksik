{
 "cells": [
  {
   "cell_type": "markdown",
   "id": "482950ff",
   "metadata": {},
   "source": [
    "# Output Equation"
   ]
  },
  {
   "cell_type": "markdown",
   "id": "4578e322",
   "metadata": {},
   "source": [
    "## модель 1"
   ]
  },
  {
   "cell_type": "markdown",
   "id": "cebd1206",
   "metadata": {},
   "source": [
    "# спецификация \n",
    "$$\n",
    "log(output)= \\beta_0 + \\beta_1 * log(capital) + \\beta_2 * log(labour) +u \n",
    "$$"
   ]
  },
  {
   "cell_type": "code",
   "execution_count": 1,
   "id": "9efaa758",
   "metadata": {},
   "outputs": [],
   "source": [
    "import numpy as np # linear algebra \n",
    "import pandas as pd # data processing, CSV file I/O (e.g. pd.read_csv)\n",
    "# stats models: regression fitting via formulas\n",
    "import statsmodels.formula.api as smf\n",
    "# stats models: regression fitting via matrices of regression design\n",
    "import statsmodels.api as sm"
   ]
  },
  {
   "cell_type": "code",
   "execution_count": 2,
   "id": "269a1cdf",
   "metadata": {},
   "outputs": [
    {
     "data": {
      "text/html": [
       "<div>\n",
       "<style scoped>\n",
       "    .dataframe tbody tr th:only-of-type {\n",
       "        vertical-align: middle;\n",
       "    }\n",
       "\n",
       "    .dataframe tbody tr th {\n",
       "        vertical-align: top;\n",
       "    }\n",
       "\n",
       "    .dataframe thead th {\n",
       "        text-align: right;\n",
       "    }\n",
       "</style>\n",
       "<table border=\"1\" class=\"dataframe\">\n",
       "  <thead>\n",
       "    <tr style=\"text-align: right;\">\n",
       "      <th></th>\n",
       "      <th>capital</th>\n",
       "      <th>labour</th>\n",
       "      <th>output</th>\n",
       "      <th>wage</th>\n",
       "    </tr>\n",
       "  </thead>\n",
       "  <tbody>\n",
       "    <tr>\n",
       "      <th>0</th>\n",
       "      <td>2.606563</td>\n",
       "      <td>184</td>\n",
       "      <td>9.250759</td>\n",
       "      <td>43.080307</td>\n",
       "    </tr>\n",
       "    <tr>\n",
       "      <th>1</th>\n",
       "      <td>1.323237</td>\n",
       "      <td>91</td>\n",
       "      <td>3.664310</td>\n",
       "      <td>27.780016</td>\n",
       "    </tr>\n",
       "    <tr>\n",
       "      <th>2</th>\n",
       "      <td>22.093692</td>\n",
       "      <td>426</td>\n",
       "      <td>28.781516</td>\n",
       "      <td>44.467748</td>\n",
       "    </tr>\n",
       "    <tr>\n",
       "      <th>3</th>\n",
       "      <td>10.737851</td>\n",
       "      <td>72</td>\n",
       "      <td>4.124642</td>\n",
       "      <td>39.734710</td>\n",
       "    </tr>\n",
       "    <tr>\n",
       "      <th>4</th>\n",
       "      <td>1.161365</td>\n",
       "      <td>46</td>\n",
       "      <td>2.890150</td>\n",
       "      <td>34.650709</td>\n",
       "    </tr>\n",
       "  </tbody>\n",
       "</table>\n",
       "</div>"
      ],
      "text/plain": [
       "     capital  labour     output       wage\n",
       "0   2.606563     184   9.250759  43.080307\n",
       "1   1.323237      91   3.664310  27.780016\n",
       "2  22.093692     426  28.781516  44.467748\n",
       "3  10.737851      72   4.124642  39.734710\n",
       "4   1.161365      46   2.890150  34.650709"
      ]
     },
     "execution_count": 2,
     "metadata": {},
     "output_type": "execute_result"
    }
   ],
   "source": [
    "df = pd.read_csv('https://raw.githubusercontent.com/artamonoff/Econometrica/master/python-notebooks/data-csv/Labour.csv')\n",
    "df.head()"
   ]
  },
  {
   "cell_type": "markdown",
   "id": "cf1f3a17",
   "metadata": {},
   "source": [
    "## Cпособ оценивания через матрицы ргерессивного дизайна Y,X"
   ]
  },
  {
   "cell_type": "code",
   "execution_count": 3,
   "id": "f265c3a5",
   "metadata": {},
   "outputs": [
    {
     "data": {
      "text/html": [
       "<div>\n",
       "<style scoped>\n",
       "    .dataframe tbody tr th:only-of-type {\n",
       "        vertical-align: middle;\n",
       "    }\n",
       "\n",
       "    .dataframe tbody tr th {\n",
       "        vertical-align: top;\n",
       "    }\n",
       "\n",
       "    .dataframe thead th {\n",
       "        text-align: right;\n",
       "    }\n",
       "</style>\n",
       "<table border=\"1\" class=\"dataframe\">\n",
       "  <thead>\n",
       "    <tr style=\"text-align: right;\">\n",
       "      <th></th>\n",
       "      <th>const</th>\n",
       "      <th>l_capital</th>\n",
       "      <th>l_labour</th>\n",
       "    </tr>\n",
       "  </thead>\n",
       "  <tbody>\n",
       "    <tr>\n",
       "      <th>0</th>\n",
       "      <td>1.0</td>\n",
       "      <td>0.958033</td>\n",
       "      <td>5.214936</td>\n",
       "    </tr>\n",
       "    <tr>\n",
       "      <th>1</th>\n",
       "      <td>1.0</td>\n",
       "      <td>0.280081</td>\n",
       "      <td>4.510860</td>\n",
       "    </tr>\n",
       "    <tr>\n",
       "      <th>2</th>\n",
       "      <td>1.0</td>\n",
       "      <td>3.095292</td>\n",
       "      <td>6.054439</td>\n",
       "    </tr>\n",
       "    <tr>\n",
       "      <th>3</th>\n",
       "      <td>1.0</td>\n",
       "      <td>2.373775</td>\n",
       "      <td>4.276666</td>\n",
       "    </tr>\n",
       "    <tr>\n",
       "      <th>4</th>\n",
       "      <td>1.0</td>\n",
       "      <td>0.149596</td>\n",
       "      <td>3.828641</td>\n",
       "    </tr>\n",
       "    <tr>\n",
       "      <th>5</th>\n",
       "      <td>1.0</td>\n",
       "      <td>5.623283</td>\n",
       "      <td>8.941415</td>\n",
       "    </tr>\n",
       "    <tr>\n",
       "      <th>6</th>\n",
       "      <td>1.0</td>\n",
       "      <td>0.518174</td>\n",
       "      <td>3.871201</td>\n",
       "    </tr>\n",
       "  </tbody>\n",
       "</table>\n",
       "</div>"
      ],
      "text/plain": [
       "   const  l_capital  l_labour\n",
       "0    1.0   0.958033  5.214936\n",
       "1    1.0   0.280081  4.510860\n",
       "2    1.0   3.095292  6.054439\n",
       "3    1.0   2.373775  4.276666\n",
       "4    1.0   0.149596  3.828641\n",
       "5    1.0   5.623283  8.941415\n",
       "6    1.0   0.518174  3.871201"
      ]
     },
     "execution_count": 3,
     "metadata": {},
     "output_type": "execute_result"
    }
   ],
   "source": [
    "# Зададим матрицы регрессионного дизайна\n",
    "y = np.log(df['output']) # зависимая переменная\n",
    "# логаримируем данные\n",
    "X = pd.DataFrame(data={'l_capital': np.log(df['capital']), 'l_labour': np.log(df['labour'])} )\n",
    "X = sm.add_constant(X)\n",
    "#X = sm.add_constant(df[['totwrk', 'male']]) \n",
    "X.head(n=7)"
   ]
  },
  {
   "cell_type": "code",
   "execution_count": 4,
   "id": "30325d48",
   "metadata": {},
   "outputs": [
    {
     "data": {
      "text/plain": [
       "const       -1.711\n",
       "l_capital    0.208\n",
       "l_labour     0.715\n",
       "dtype: float64"
      ]
     },
     "execution_count": 4,
     "metadata": {},
     "output_type": "execute_result"
    }
   ],
   "source": [
    "output_eq2 = sm.OLS(y, X).fit()\n",
    "# Коэфициенты модели с округлением\n",
    "output_eq2.params.round(3)"
   ]
  },
  {
   "cell_type": "markdown",
   "id": "38598741",
   "metadata": {},
   "source": [
    "\n",
    "- увеличении капитала на 1%, выпуск увеличивается на 0.208%\n",
    "- При увеличении количества рабочих на 1%, выпуска возрастает на 0.715% при прочих равных условиях"
   ]
  },
  {
   "cell_type": "markdown",
   "id": "c0e2904c",
   "metadata": {},
   "source": [
    "## модель 2"
   ]
  },
  {
   "cell_type": "markdown",
   "id": "a32d56bd",
   "metadata": {},
   "source": [
    "$$\n",
    "log(output)= \\beta_0 + \\beta_1 * log(capital) + \\beta_2 * log(labour) + \\beta_3 * log (wage) + u\n",
    "$$"
   ]
  },
  {
   "cell_type": "code",
   "execution_count": 6,
   "id": "f0d4cb81",
   "metadata": {},
   "outputs": [
    {
     "data": {
      "text/html": [
       "<div>\n",
       "<style scoped>\n",
       "    .dataframe tbody tr th:only-of-type {\n",
       "        vertical-align: middle;\n",
       "    }\n",
       "\n",
       "    .dataframe tbody tr th {\n",
       "        vertical-align: top;\n",
       "    }\n",
       "\n",
       "    .dataframe thead th {\n",
       "        text-align: right;\n",
       "    }\n",
       "</style>\n",
       "<table border=\"1\" class=\"dataframe\">\n",
       "  <thead>\n",
       "    <tr style=\"text-align: right;\">\n",
       "      <th></th>\n",
       "      <th>const</th>\n",
       "      <th>l_capital</th>\n",
       "      <th>l_labour</th>\n",
       "      <th>l_wage</th>\n",
       "    </tr>\n",
       "  </thead>\n",
       "  <tbody>\n",
       "    <tr>\n",
       "      <th>0</th>\n",
       "      <td>1.0</td>\n",
       "      <td>0.958033</td>\n",
       "      <td>5.214936</td>\n",
       "      <td>3.763066</td>\n",
       "    </tr>\n",
       "    <tr>\n",
       "      <th>1</th>\n",
       "      <td>1.0</td>\n",
       "      <td>0.280081</td>\n",
       "      <td>4.510860</td>\n",
       "      <td>3.324317</td>\n",
       "    </tr>\n",
       "    <tr>\n",
       "      <th>2</th>\n",
       "      <td>1.0</td>\n",
       "      <td>3.095292</td>\n",
       "      <td>6.054439</td>\n",
       "      <td>3.794764</td>\n",
       "    </tr>\n",
       "    <tr>\n",
       "      <th>3</th>\n",
       "      <td>1.0</td>\n",
       "      <td>2.373775</td>\n",
       "      <td>4.276666</td>\n",
       "      <td>3.682225</td>\n",
       "    </tr>\n",
       "    <tr>\n",
       "      <th>4</th>\n",
       "      <td>1.0</td>\n",
       "      <td>0.149596</td>\n",
       "      <td>3.828641</td>\n",
       "      <td>3.545318</td>\n",
       "    </tr>\n",
       "    <tr>\n",
       "      <th>5</th>\n",
       "      <td>1.0</td>\n",
       "      <td>5.623283</td>\n",
       "      <td>8.941415</td>\n",
       "      <td>3.890591</td>\n",
       "    </tr>\n",
       "    <tr>\n",
       "      <th>6</th>\n",
       "      <td>1.0</td>\n",
       "      <td>0.518174</td>\n",
       "      <td>3.871201</td>\n",
       "      <td>3.479950</td>\n",
       "    </tr>\n",
       "  </tbody>\n",
       "</table>\n",
       "</div>"
      ],
      "text/plain": [
       "   const  l_capital  l_labour    l_wage\n",
       "0    1.0   0.958033  5.214936  3.763066\n",
       "1    1.0   0.280081  4.510860  3.324317\n",
       "2    1.0   3.095292  6.054439  3.794764\n",
       "3    1.0   2.373775  4.276666  3.682225\n",
       "4    1.0   0.149596  3.828641  3.545318\n",
       "5    1.0   5.623283  8.941415  3.890591\n",
       "6    1.0   0.518174  3.871201  3.479950"
      ]
     },
     "execution_count": 6,
     "metadata": {},
     "output_type": "execute_result"
    }
   ],
   "source": [
    "# Зададим матрицы регрессионного дизайна\n",
    "y = np.log(df['output']) # зависимая переменная\n",
    "# логаримируем данные\n",
    "X = pd.DataFrame(data={'l_capital': np.log(df['capital']), 'l_labour': np.log(df['labour']), 'l_wage': np.log(df['wage'])} )\n",
    "X = sm.add_constant(X)\n",
    "#X = sm.add_constant(df[['totwrk', 'male']]) \n",
    "X.head(n=7)"
   ]
  },
  {
   "cell_type": "code",
   "execution_count": 7,
   "id": "497c33bd",
   "metadata": {},
   "outputs": [
    {
     "data": {
      "text/plain": [
       "const       -5.007\n",
       "l_capital    0.149\n",
       "l_labour     0.720\n",
       "l_wage       0.921\n",
       "dtype: float64"
      ]
     },
     "execution_count": 7,
     "metadata": {},
     "output_type": "execute_result"
    }
   ],
   "source": [
    "output_eq2 = sm.OLS(y, X).fit()\n",
    "# Коэфициенты модели с округление\n",
    "output_eq2.params.round(3)"
   ]
  },
  {
   "cell_type": "markdown",
   "id": "b52efc0f",
   "metadata": {},
   "source": [
    "- При увеличении количества рабочих на 1%, выпуск возрастает на 0.72%\n",
    "- При увеличении капитала на 1%, выпуск увеличивается на 0.149%, при прочих равных"
   ]
  },
  {
   "cell_type": "code",
   "execution_count": null,
   "id": "d4a04db3",
   "metadata": {},
   "outputs": [],
   "source": []
  }
 ],
 "metadata": {
  "kernelspec": {
   "display_name": "Python 3 (ipykernel)",
   "language": "python",
   "name": "python3"
  },
  "language_info": {
   "codemirror_mode": {
    "name": "ipython",
    "version": 3
   },
   "file_extension": ".py",
   "mimetype": "text/x-python",
   "name": "python",
   "nbconvert_exporter": "python",
   "pygments_lexer": "ipython3",
   "version": "3.9.13"
  }
 },
 "nbformat": 4,
 "nbformat_minor": 5
}
